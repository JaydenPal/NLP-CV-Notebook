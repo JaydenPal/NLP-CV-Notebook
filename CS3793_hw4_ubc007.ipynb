{
  "cells": [
    {
      "cell_type": "markdown",
      "metadata": {
        "id": "9wUL_Fy5qUDI"
      },
      "source": [
        "# UTSA CS 3793: Assignment-4\n",
        "\n",
        "**Last Name - First Name - (abc123)**\n",
        "\n",
        "\n",
        "\n",
        "\n"
      ]
    },
    {
      "cell_type": "markdown",
      "metadata": {
        "id": "NM8b9KVYsETT"
      },
      "source": [
        "## Learning Objectives\n",
        "\n",
        "*   Deep Learning\n",
        "*   Computer Vision - Convolutional Neural Network\n",
        "*   Natural Language Processing - Recurrent Neural Network"
      ]
    },
    {
      "cell_type": "markdown",
      "metadata": {
        "id": "LzR4Ic34zJlT"
      },
      "source": [
        "\n",
        "## General Information\n",
        "\n",
        "The base structure and comments are provided on what should be done. You are free to use any code from online sources, but please cite the source properly. Also, you are supposed to create/train the DL model and not use pre-trained models.\n",
        "\n",
        "**TIPS** while working on this assignment:\n",
        "\n",
        "\n",
        "*   You will have to keep on updating the model to improve accuracy. Hence, all except the first step (loading the data) would be repeated multiple times. i.e. repeat -- model creation, training & testing.\n",
        "*   Training a Deep Learning model on real-world datasets and obtain decent accuracy is time consuming. For this assignment, it may take at least 40-60 min, if not more, to train the complete data and get around 35% testing accuracy. Hence, have enough time planned out for finishing the assignment.\n",
        "*   Because of the large training time, it is impossisble to train each student's model. Hence, you will be required to **save the weights** in a file. These weights can then be loaded for testing purposes. More information is provided in a TensorFlow tutorial [here](https://www.tensorflow.org/tutorials/keras/save_and_load).\n",
        "*   Please refer to the [TensorFlow Keras API](https://www.tensorflow.org/api_docs/python/tf/keras) for selecting the *'activation function', 'loss', 'optimizer' & 'metrics'*. At least use 'accuracy' as one of the 'metrics'.\n",
        "\n",
        "\n"
      ]
    },
    {
      "cell_type": "markdown",
      "metadata": {
        "id": "vnPfmHAOteOI"
      },
      "source": [
        "##Import Libraries\n",
        "\n",
        "Write all the import statements here."
      ]
    },
    {
      "cell_type": "code",
      "execution_count": null,
      "metadata": {
        "id": "f9apbZGptej6"
      },
      "outputs": [],
      "source": [
        "# importing all required libraries\n",
        "import tensorflow as tf\n",
        "import numpy as np\n",
        "from tensorflow import keras\n",
        "from keras.layers import SimpleRNN\n",
        "from keras.models import Sequential\n",
        "from keras.layers import Embedding, SimpleRNN\n",
        "from keras.layers import Dense\n",
        "from keras.layers import Dropout\n",
        "from keras.utils import to_categorical\n",
        "import matplotlib.pyplot as plt\n",
        "import tensorflow_datasets as tfds\n",
        "import random\n",
        "from google.colab import drive\n",
        "drive.mount('/content/drive')\n",
        "\n"
      ]
    },
    {
      "cell_type": "markdown",
      "metadata": {
        "id": "bmVoTnmBdVfc"
      },
      "source": [
        "# Computer Vision - CNN\n",
        "\n",
        "The goal of this task is to get hands-on experience in developing, training and testing **Convolutional Neural Network** for the Computer Vision task of Object/Image Classification."
      ]
    },
    {
      "cell_type": "markdown",
      "metadata": {
        "id": "YeYRnesWqvLm"
      },
      "source": [
        "## Load/Prepare Data\n",
        "\n",
        "(20 points)\n",
        "\n",
        "In this assignment, will work with the well-known **CIFAR-100 dataset**. The dataset consists of 60000 32x32 color images, which belong to 100 classes, with 600 images per class. There are 50000 training images (500 per class) and 10000 test images (100 per class). The 100 classes in the dataset are grouped into 20 superclasses. Each image comes with a \"fine\" label (the class to which it belongs) and a \"coarse\" label (the superclass to which it belongs). More information about the dataset can be found [here](https://www.cs.toronto.edu/~kriz/cifar.html). Please visit this [website](https://benchmarks.ai/cifar-100) for the benchmark performances of different techniques on the CIFAR-100 dataset.\n",
        "\n",
        "In this section, you will write code for the following:\n",
        "\n",
        "*   Load the CIFAR-100 dataset\n",
        "*   Prepare the data to be used for the DL model creation and training\n",
        "*   Visualize the data by plotting 100 random images, one each for the 100 classes\n",
        "\n"
      ]
    },
    {
      "cell_type": "code",
      "execution_count": null,
      "metadata": {
        "id": "S79PUbhyw0gz"
      },
      "outputs": [],
      "source": [
        "#code to load files provided by CIFAR-10 website\n",
        "def unpickle(file):\n",
        "    import pickle\n",
        "    with open(file, 'rb') as fo:\n",
        "        dict = pickle.load(fo, encoding='bytes')\n",
        "    return dict"
      ]
    },
    {
      "cell_type": "code",
      "execution_count": null,
      "metadata": {
        "id": "YdPwgSBOtb1P"
      },
      "outputs": [],
      "source": [
        "# Load the data - training as well as testing\n",
        "(x_train, y_train), (x_test, y_test) = keras.datasets.cifar100.load_data(label_mode=\"fine\")\n",
        "\n",
        "# Prepare the data that can be used by the next step - creating and training the DL model\n",
        "x_train, x_test = x_train / 255.0, x_test / 255.0\n",
        "y_train = to_categorical(y_train, 100)\n",
        "y_test = to_categorical(y_test, 100)\n",
        "# The data from TensforFlow and Keras will only have integer class labels. Each of those 100 integer class labels correspond to the following names, in the correct order\n",
        "fine_labels = ['apple', 'aquarium_fish', 'baby', 'bear', 'beaver', 'bed', 'bee', 'beetle', 'bicycle', 'bottle', 'bowl', 'boy', 'bridge', 'bus', 'butterfly', 'camel', 'can', 'castle', 'caterpillar', 'cattle', 'chair', 'chimpanzee', 'clock', 'cloud', 'cockroach', 'couch', 'crab', 'crocodile', 'cup', 'dinosaur', 'dolphin', 'elephant', 'flatfish', 'forest', 'fox', 'girl', 'hamster', 'house', 'kangaroo', 'keyboard', 'lamp', 'lawn_mower', 'leopard', 'lion', 'lizard', 'lobster', 'man', 'maple_tree', 'motorcycle', 'mountain', 'mouse', 'mushroom', 'oak_tree', 'orange', 'orchid', 'otter', 'palm_tree', 'pear', 'pickup_truck', 'pine_tree', 'plain', 'plate', 'poppy', 'porcupine', 'possum', 'rabbit', 'raccoon', 'ray', 'road', 'rocket', 'rose', 'sea', 'seal', 'shark', 'shrew', 'skunk', 'skyscraper', 'snail', 'snake', 'spider', 'squirrel', 'streetcar', 'sunflower', 'sweet_pepper', 'table', 'tank', 'telephone', 'television', 'tiger', 'tractor', 'train', 'trout', 'tulip', 'turtle', 'wardrobe', 'whale', 'willow_tree', 'wolf', 'woman', 'worm']\n",
        "\n",
        "# These are the string labels for the 20 superclasses. You may not need to use this at all, just provided here for reference.\n",
        "coarse_labels = ['aquatic_mammals', 'fish', 'flowers', 'food_containers', 'fruit_and_vegetables', 'household_electrical_devices', 'household_furniture', 'insects', 'large_carnivores', 'large_man-made_outdoor_things', 'large_natural_outdoor_scenes', 'large_omnivores_and_herbivores', 'medium_mammals', 'non-insect_invertebrates', 'people', 'reptiles', 'small_mammals', 'trees', 'vehicles_1', 'vehicles_2']\n",
        "\n"
      ]
    },
    {
      "cell_type": "code",
      "execution_count": null,
      "metadata": {
        "colab": {
          "base_uri": "https://localhost:8080/",
          "height": 807
        },
        "id": "mTXdF_Cp-G7X",
        "outputId": "00609910-7db6-4358-a585-bfe5c5986d5d"
      },
      "outputs": [
        {
          "data": {
            "image/png": "[encoded data removed]",
            "text/plain": [
              "<Figure size 1000x1000 with 2 Axes>"
            ]
          },
          "metadata": {},
          "output_type": "display_data"
        }
      ],
      "source": [
        "# Visualize the data by plotting 100 random images, one each for the 100 classes\n",
        "# Draw 10 images in one row, 10 rows total\n",
        "plt.figure(figsize=(10,10))\n",
        "unique_classes = np.unique(y_train)\n",
        "for i, cls in enumerate(unique_classes):\n",
        "    # Find a random image belonging to the current class\n",
        "    idx = np.random.choice(np.where(y_train == cls)[0])\n",
        "    image = x_train[idx]\n",
        "\n",
        "    plt.subplot(10, 10, i+1)  # 10 rows, 10 columns, index i+1\n",
        "    plt.imshow(image)\n",
        "    plt.axis('off')\n",
        "\n"
      ]
    },
    {
      "cell_type": "markdown",
      "metadata": {
        "id": "lYxmgcnes9cS"
      },
      "source": [
        "## CNN Model Creation\n",
        "\n",
        "(15 points)\n",
        "\n",
        "In this section, you will write code for the following:\n",
        "\n",
        "*   Create a DL model for Computer Vision - Convolutional Neural Network (Use *TensorFlow* and *keras*, as shown in the example code in the lecture for 'deep-learning')\n",
        "*   Print the DL model summary"
      ]
    },
    {
      "cell_type": "code",
      "execution_count": null,
      "metadata": {
        "id": "fbBNakSDq0Wv"
      },
      "outputs": [],
      "source": [
        "# Create a DL model for Computer Vision - Convolutional Neural Network (Use *TensorFlow* and *keras*, as shown in the example code in the lecture for 'deep-learning')\n",
        "def create_model():\n",
        "    model = keras.Sequential([\n",
        "    keras.layers.Conv2D(128, 3, 1, activation=tf.nn.relu, input_shape = (32,32,3)),\n",
        "    keras.layers.Flatten(),\n",
        "    # keras.layers.Dense(4096, activation=tf.nn.relu),\n",
        "    keras.layers.Dense(512, activation=tf.nn.relu),\n",
        "    keras.layers.Dense(100, activation=tf.nn.softmax)\n",
        "])\n",
        "    model.compile(optimizer='adam',\n",
        "              loss='categorical_crossentropy',\n",
        "              metrics=['accuracy'])\n",
        "    return model\n",
        "\n",
        "cifar_model = create_model()"
      ]
    },
    {
      "cell_type": "code",
      "execution_count": null,
      "metadata": {
        "colab": {
          "base_uri": "https://localhost:8080/"
        },
        "id": "Ey6KYQER6qBe",
        "outputId": "afb456eb-0bf0-4287-d249-9729e8d90ebe"
      },
      "outputs": [
        {
          "name": "stdout",
          "output_type": "stream",
          "text": [
            "Model: \"sequential_1\"\n",
            "_________________________________________________________________\n",
            " Layer (type)                Output Shape              Param #   \n",
            "=================================================================\n",
            " conv2d_2 (Conv2D)           (None, 30, 30, 128)       3584      \n",
            "                                                                 \n",
            " flatten_1 (Flatten)         (None, 115200)            0         \n",
            "                                                                 \n",
            " dense_2 (Dense)             (None, 512)               58982912  \n",
            "                                                                 \n",
            " dense_3 (Dense)             (None, 100)               51300     \n",
            "                                                                 \n",
            "=================================================================\n",
            "Total params: 59,037,796\n",
            "Trainable params: 59,037,796\n",
            "Non-trainable params: 0\n",
            "_________________________________________________________________\n",
            "None\n"
          ]
        }
      ],
      "source": [
        "# Print the DL model summary\n",
        "print(cifar_model.summary())"
      ]
    },
    {
      "cell_type": "markdown",
      "metadata": {
        "id": "onnqJYTEq0l3"
      },
      "source": [
        "## Training\n",
        "\n",
        "(15 points)\n",
        "\n",
        "In this section, you will write code to do the following:\n",
        "\n",
        "*   Train/fit the DL model using the training CIFAR-100 data\n",
        "*   Plot the training/validation accuracy and loss\n",
        "*   *Save the trained model weights* in a folder in the google drive at at location \"/content/drive/My Drive/Colab Notebooks/cifar/\", to be used for the testing phase\n"
      ]
    },
    {
      "cell_type": "code",
      "execution_count": null,
      "metadata": {
        "id": "NuBcHrJnSlgX"
      },
      "outputs": [],
      "source": [
        "# Set the model checkpoints to be saved in a folder in the google drive at at location \"/content/drive/My Drive/Colab Notebooks/cifar/\"\n",
        "cp_callback = keras.callbacks.ModelCheckpoint(filepath=\"/content/drive/My Drive/Colab Notebooks/cifar/\",\n",
        "                                                 save_weights_only=True,\n",
        "                                                 verbose=1)\n",
        "\n",
        "# cp_callback = keras.callbacks.ModelCheckpoint(filepath=\"./cifar/\",\n",
        "#                                                  save_weights_only=True,\n",
        "#                                                  verbose=1)"
      ]
    },
    {
      "cell_type": "code",
      "execution_count": null,
      "metadata": {
        "colab": {
          "base_uri": "https://localhost:8080/"
        },
        "id": "XELGzRDftS77",
        "outputId": "77634045-f682-4d6e-daac-bf751e51b412"
      },
      "outputs": [
        {
          "name": "stdout",
          "output_type": "stream",
          "text": [
            "Epoch 1/10\n",
            "1563/1563 [==============================] - ETA: 0s - loss: 3.4783 - accuracy: 0.1893\n",
            "Epoch 1: saving model to ./cifar/\n",
            "1563/1563 [==============================] - 237s 151ms/step - loss: 3.4783 - accuracy: 0.1893\n",
            "Epoch 2/10\n",
            "1563/1563 [==============================] - ETA: 0s - loss: 2.6311 - accuracy: 0.3466\n",
            "Epoch 2: saving model to ./cifar/\n",
            "1563/1563 [==============================] - 243s 155ms/step - loss: 2.6311 - accuracy: 0.3466\n",
            "Epoch 3/10\n",
            "1563/1563 [==============================] - ETA: 0s - loss: 1.9847 - accuracy: 0.4837\n",
            "Epoch 3: saving model to ./cifar/\n",
            "1563/1563 [==============================] - 235s 151ms/step - loss: 1.9847 - accuracy: 0.4837\n",
            "Epoch 4/10\n",
            "1563/1563 [==============================] - ETA: 0s - loss: 1.2722 - accuracy: 0.6582\n",
            "Epoch 4: saving model to ./cifar/\n",
            "1563/1563 [==============================] - 241s 154ms/step - loss: 1.2722 - accuracy: 0.6582\n",
            "Epoch 5/10\n",
            "1563/1563 [==============================] - ETA: 0s - loss: 0.7443 - accuracy: 0.7962\n",
            "Epoch 5: saving model to ./cifar/\n",
            "1563/1563 [==============================] - 236s 151ms/step - loss: 0.7443 - accuracy: 0.7962\n",
            "Epoch 6/10\n",
            "1563/1563 [==============================] - ETA: 0s - loss: 0.4515 - accuracy: 0.8757\n",
            "Epoch 6: saving model to ./cifar/\n",
            "1563/1563 [==============================] - 252s 161ms/step - loss: 0.4515 - accuracy: 0.8757\n",
            "Epoch 7/10\n",
            "1563/1563 [==============================] - ETA: 0s - loss: 0.3101 - accuracy: 0.9144\n",
            "Epoch 7: saving model to ./cifar/\n",
            "1563/1563 [==============================] - 228s 146ms/step - loss: 0.3101 - accuracy: 0.9144\n",
            "Epoch 8/10\n",
            "1563/1563 [==============================] - ETA: 0s - loss: 0.2547 - accuracy: 0.9304\n",
            "Epoch 8: saving model to ./cifar/\n",
            "1563/1563 [==============================] - 230s 147ms/step - loss: 0.2547 - accuracy: 0.9304\n",
            "Epoch 9/10\n",
            "1563/1563 [==============================] - ETA: 0s - loss: 0.2016 - accuracy: 0.9467\n",
            "Epoch 9: saving model to ./cifar/\n",
            "1563/1563 [==============================] - 225s 144ms/step - loss: 0.2016 - accuracy: 0.9467\n",
            "Epoch 10/10\n",
            "1563/1563 [==============================] - ETA: 0s - loss: 0.1819 - accuracy: 0.9510\n",
            "Epoch 10: saving model to ./cifar/\n",
            "1563/1563 [==============================] - 223s 143ms/step - loss: 0.1819 - accuracy: 0.9510\n"
          ]
        }
      ],
      "source": [
        "# Train/fit the DL model using the training CIFAR-100 data\n",
        "# x_train_r = x_train.reshape(x_train.shape[0], x_train.shape[1], x_train.shape[2], x_train.shape[3], 1)\n",
        "# x_test_r = x_test.reshape(x_test.shape[0], x_test.shape[1], x_test.shape[2], x_test.shape[3], 1)\n",
        "log = cifar_model.fit(x_train, y_train, epochs=10, callbacks=[cp_callback])"
      ]
    },
    {
      "cell_type": "code",
      "execution_count": null,
      "metadata": {
        "colab": {
          "base_uri": "https://localhost:8080/",
          "height": 810
        },
        "id": "jmeccHAWSgYq",
        "outputId": "72cc13dd-a69b-46fc-a23a-2d93e27ab4aa"
      },
      "outputs": [
        {
          "data": {
            "image/png": "[encoded data removed]",
            "text/plain": [
              "<Figure size 640x480 with 1 Axes>"
            ]
          },
          "metadata": {},
          "output_type": "display_data"
        },
        {
          "data": {
            "image/png": "[encoded data removed]",
            "text/plain": [
              "<Figure size 640x480 with 1 Axes>"
            ]
          },
          "metadata": {},
          "output_type": "display_data"
        }
      ],
      "source": [
        "# Plot the training/validation accuracy and loss\n",
        "acc = log.history['acc']\n",
        "# val_acc = log.history['val_acc']\n",
        "loss = log.history['loss']\n",
        "# val_loss = log.history['val_loss']\n",
        "\n",
        "epochs = range(len(acc))\n",
        "\n",
        "plt.plot(epochs, acc, 'bo', label='Training acc')\n",
        "# plt.plot(epochs, val_acc, 'b', label='Validation acc')\n",
        "plt.title('Training accuracy')\n",
        "plt.legend()\n",
        "\n",
        "plt.figure()\n",
        "\n",
        "plt.plot(epochs, loss, 'bo', label='Training loss')\n",
        "# plt.plot(epochs, val_loss, 'b', label='Validation loss')\n",
        "plt.title('Training loss')\n",
        "plt.legend()\n",
        "\n",
        "plt.show()"
      ]
    },
    {
      "cell_type": "markdown",
      "metadata": {
        "id": "YvYowzzA4vcd"
      },
      "source": [
        "## Testing/Evaluation\n",
        "\n",
        "(15 points)\n",
        "\n",
        "In this section, you will write code for the following:\n",
        "\n",
        "*   Re-initialize the model\n",
        "*   Load the model weights that were saved at \"/content/drive/My Drive/Colab Notebooks/cifar/\" ([code reference](https://www.tensorflow.org/tutorials/keras/save_and_load))\n",
        "*   Evaluate the trained DL model on the CIFAR-100 test dataset. Accuracy value should be printed. Please visit this [website](https://benchmarks.ai/cifar-100) for the benchmark performances of different techniques on the CIFAR-100 dataset.\n",
        "\n",
        "This section of the code should be able to run independently from the **training** section, i.e. run this section directly after creating the model."
      ]
    },
    {
      "cell_type": "code",
      "execution_count": null,
      "metadata": {
        "id": "FYSK99zp5a7H"
      },
      "outputs": [],
      "source": [
        "# Re-initialize the model\n",
        "cifar_model = create_model()"
      ]
    },
    {
      "cell_type": "code",
      "execution_count": null,
      "metadata": {
        "colab": {
          "base_uri": "https://localhost:8080/"
        },
        "id": "rXqv2MBa-d1D",
        "outputId": "3c9f712a-2f42-4dad-e6cd-d9bc728c5a7b"
      },
      "outputs": [
        {
          "data": {
            "text/plain": [
              "<tensorflow.python.checkpoint.checkpoint.CheckpointLoadStatus at 0x2ae26af20>"
            ]
          },
          "execution_count": 17,
          "metadata": {},
          "output_type": "execute_result"
        }
      ],
      "source": [
        "# Load the model weights that were saved at - \"/content/drive/My Drive/Colab Notebooks/cifar/\"\n",
        "cifar_model.load_weights('/content/drive/My Drive/Colab Notebooks/cifar/')"
      ]
    },
    {
      "cell_type": "code",
      "execution_count": null,
      "metadata": {
        "colab": {
          "base_uri": "https://localhost:8080/"
        },
        "id": "cutSjcrg-eIO",
        "outputId": "c8eb68a6-18bf-4cbd-94c9-dc4cda776a56"
      },
      "outputs": [
        {
          "name": "stdout",
          "output_type": "stream",
          "text": [
            "313/313 [==============================] - 9s 28ms/step - loss: 7.2340 - accuracy: 0.2759\n"
          ]
        },
        {
          "data": {
            "text/plain": [
              "[7.234025001525879, 0.2759000062942505]"
            ]
          },
          "execution_count": 19,
          "metadata": {},
          "output_type": "execute_result"
        }
      ],
      "source": [
        "# Evaluate the trained DL model on the CIFAR-100 test dataset\n",
        "cifar_model.evaluate(x_test, y_test)"
      ]
    },
    {
      "cell_type": "markdown",
      "metadata": {
        "id": "c_s0l_dmOfH4"
      },
      "source": [
        "# Natural Language Processing - RNN\n",
        "\n",
        "The goal of this task is to get hands-on experience in developing, training and testing **Recurrent Neural Network** for the Natural Language Processing task of Sentiment Analysis / Text Classification. In this part, you will work with the well-known **Reuters newswire classification dataset**. The dataset consists of newswires from Reuters, labeled over 46 topics. More information about the dataset can be found [here](https://archive.ics.uci.edu/ml/datasets/reuters-21578+text+categorization+collection) or [here](https://keras.io/api/datasets/reuters/). The Keras dataset is a cleaned and organized version of the original dataset and consists of 11,228 newswires (8982 training and 2246 testing). The goal is to classify a newswire into one of the 46 output catergories.\n"
      ]
    },
    {
      "cell_type": "markdown",
      "metadata": {
        "id": "zGcX6X3CPMpn"
      },
      "source": [
        "## Load/Prepare Data\n",
        "\n",
        "(15 points)\n",
        "\n",
        "In this section, you will write code for the following:\n",
        "\n",
        "*   Load the Reuters dataset - use the Keras version\n",
        " *   Select the vocabulary size while loading the data\n",
        " *   The data will be loaded as integer representations for each word\n",
        "*   Prepare the data to be used for the next steps\n",
        " *   Each data entry (newswire) can be of different lengths\n",
        " *   Make each newswire consistent - same number of words\n",
        " *   'Pad' words (say 0) to get to the standard length or remove words"
      ]
    },
    {
      "cell_type": "code",
      "execution_count": null,
      "metadata": {
        "id": "7YmiwKnnPSnI"
      },
      "outputs": [],
      "source": [
        "# Load the Reuters dataset - use the Keras version\n",
        "#   Select the vocabulary size while loading the data\n",
        "#   The data will be loaded as integer representations for each word\n",
        "max_features = 10000  # number of words to consider as features\n",
        "maxlen = 500  # cut texts after this number of words (among top max_features most common words)\n",
        "batch_size = 64\n",
        "\n",
        "(x_train, y_train), (x_test, y_test) = keras.datasets.reuters.load_data(num_words=max_features)\n",
        "\n",
        "# Retrieve the word index file mapping words to indices\n",
        "word_index = keras.datasets.reuters.get_word_index()\n",
        "word_index = {k:(v+3) for k,v in word_index.items()}\n",
        "word_index[\"<PAD>\"] = 0\n",
        "word_index[\"<START>\"] = 1\n",
        "word_index[\"<UNK>\"] = 2\n",
        "word_index[\"<UNUSED>\"] = 3\n",
        "# Reverse the word index to obtain a dict mapping indices to words\n",
        "inverted_word_index = dict((i, word) for (word, i) in word_index.items())"
      ]
    },
    {
      "cell_type": "code",
      "execution_count": null,
      "metadata": {
        "id": "wx0eke6yPVXy"
      },
      "outputs": [],
      "source": [
        "# Prepare the data to be used for the next steps\n",
        "#   Each data entry (newswire) can be of different lengths\n",
        "#   Make each newswire consistent - same number of words\n",
        "#   'Pad' words (say 0) to get to the standard length or remove words\n",
        "def vectorize_sequences(sequences, dimension=10000):\n",
        "    results = np.zeros((len(sequences), dimension))\n",
        "    for i, sequence in enumerate(sequences):\n",
        "        results[i, sequence] = 1\n",
        "    return results\n",
        "\n",
        "input_train = sequence.pad_sequences(input_train, maxlen=maxlen)\n",
        "input_test = sequence.pad_sequences(input_test, maxlen=maxlen)\n",
        "\n",
        "x_train = vectorize_sequences(x_train)\n",
        "x_test = vectorize_sequences(x_test)"
      ]
    },
    {
      "cell_type": "code",
      "execution_count": null,
      "metadata": {
        "id": "gUzqNKU-_Rfc"
      },
      "outputs": [],
      "source": [
        "y_train = to_categorical(y_train, 46)\n",
        "y_test = to_categorical(y_test, 46)"
      ]
    },
    {
      "cell_type": "markdown",
      "metadata": {
        "id": "1nDhDhMSPTIh"
      },
      "source": [
        "## RNN Model Creation\n",
        "\n",
        "(15 points)\n",
        "\n",
        "In this section, you will write code for the following:\n",
        "\n",
        "*   Create a DL model for Natural Language Processing - Recurrent Neural Network / LSTM / GRU\n",
        "*   Print the DL model summary"
      ]
    },
    {
      "cell_type": "code",
      "execution_count": null,
      "metadata": {
        "id": "dYDNfNhYPcl-"
      },
      "outputs": [],
      "source": [
        "# Create a DL model for Natural Language Processing - Recurrent Neural Network / LSTM / GRU\n",
        "def create_model():\n",
        "    model = keras.Sequential(\n",
        "    #     [\n",
        "    #     keras.layers.Dense(64, activation='relu', input_shape=(10000,)),\n",
        "    #     keras.layers.Dense(64, activation='relu'),\n",
        "    #     keras.layers.Dense(46, activation='softmax')\n",
        "    # ]\n",
        "    )\n",
        "    model.add(Embedding(max_features, 64))\n",
        "    model.add(SimpleRNN(64, return_sequences=True))\n",
        "    model.add(SimpleRNN(64, return_sequences=True))\n",
        "    model.add(SimpleRNN(64, return_sequences=True))\n",
        "    model.add(SimpleRNN(64))\n",
        "    model.add(Dense(46, activation='softmax'))\n",
        "    model.compile(optimizer='rmsprop', loss='categorical_crossentropy', metrics=['acc'])\n",
        "    return model\n",
        "reuters_model = create_model()"
      ]
    },
    {
      "cell_type": "code",
      "execution_count": null,
      "metadata": {
        "colab": {
          "base_uri": "https://localhost:8080/"
        },
        "id": "6KAwHLK0PgLK",
        "outputId": "b0a77083-2e2e-413e-95ca-85f7e5ec91df"
      },
      "outputs": [
        {
          "name": "stdout",
          "output_type": "stream",
          "text": [
            "Model: \"sequential_7\"\n",
            "_________________________________________________________________\n",
            " Layer (type)                Output Shape              Param #   \n",
            "=================================================================\n",
            " embedding_4 (Embedding)     (None, None, 64)          640000    \n",
            "                                                                 \n",
            " simple_rnn_6 (SimpleRNN)    (None, None, 64)          8256      \n",
            "                                                                 \n",
            " simple_rnn_7 (SimpleRNN)    (None, None, 64)          8256      \n",
            "                                                                 \n",
            " simple_rnn_8 (SimpleRNN)    (None, None, 64)          8256      \n",
            "                                                                 \n",
            " simple_rnn_9 (SimpleRNN)    (None, 64)                8256      \n",
            "                                                                 \n",
            " dense_14 (Dense)            (None, 46)                2990      \n",
            "                                                                 \n",
            "=================================================================\n",
            "Total params: 676,014\n",
            "Trainable params: 676,014\n",
            "Non-trainable params: 0\n",
            "_________________________________________________________________\n"
          ]
        }
      ],
      "source": [
        "# Print the DL model summary\n",
        "reuters_model.summary()\n"
      ]
    },
    {
      "cell_type": "markdown",
      "metadata": {
        "id": "bZfgMNxrPhxJ"
      },
      "source": [
        "## Training\n",
        "\n",
        "(15 points)\n",
        "\n",
        "In this section, you will write code to do the following:\n",
        "\n",
        "*   Train/fit the DL model using the training Reuters data\n",
        "*   Plot the training/validation accuracy and loss\n",
        "*   *Save the trained model weights* in a folder in the google drive at at location \"/content/drive/My Drive/Colab Notebooks/reuters/\" ([code reference](https://www.tensorflow.org/tutorials/keras/save_and_load)), to be used for the testing phase\n"
      ]
    },
    {
      "cell_type": "code",
      "execution_count": null,
      "metadata": {
        "id": "ldyK8rXxPqeG"
      },
      "outputs": [],
      "source": [
        "# Set the model checkpoints to be saved in a folder in the google drive at at location \"/content/drive/My Drive/Colab Notebooks/reuters/\"\n",
        "cp = keras.callbacks.ModelCheckpoint(filepath=\"./reuters/\", save_weights_only=True)"
      ]
    },
    {
      "cell_type": "code",
      "execution_count": null,
      "metadata": {
        "colab": {
          "base_uri": "https://localhost:8080/",
          "height": 453
        },
        "id": "QJx4Z2r6PnE9",
        "outputId": "3a9ef343-4017-4eb5-d9f1-5baebd233b9e"
      },
      "outputs": [
        {
          "name": "stdout",
          "output_type": "stream",
          "text": [
            "Epoch 1/10\n",
            "71/71 [==============================] - 1s 5ms/step - loss: 1.7952 - acc: 0.6298\n",
            "Epoch 2/10\n",
            "71/71 [==============================] - 0s 4ms/step - loss: 0.9097 - acc: 0.8015\n",
            "Epoch 3/10\n",
            "71/71 [==============================] - 0s 4ms/step - loss: 0.6070 - acc: 0.8729\n",
            "Epoch 4/10\n",
            "71/71 [==============================] - 0s 4ms/step - loss: 0.4224 - acc: 0.9103\n",
            "Epoch 5/10\n",
            "71/71 [==============================] - 0s 4ms/step - loss: 0.3121 - acc: 0.9310\n",
            "Epoch 6/10\n",
            "71/71 [==============================] - 0s 4ms/step - loss: 0.2424 - acc: 0.9439\n",
            "Epoch 7/10\n",
            "71/71 [==============================] - 0s 4ms/step - loss: 0.2083 - acc: 0.9468\n",
            "Epoch 8/10\n",
            "71/71 [==============================] - 0s 4ms/step - loss: 0.1852 - acc: 0.9509\n",
            "Epoch 9/10\n",
            "71/71 [==============================] - 0s 4ms/step - loss: 0.1711 - acc: 0.9508\n",
            "Epoch 10/10\n",
            "71/71 [==============================] - 0s 4ms/step - loss: 0.1593 - acc: 0.9535\n"
          ]
        }
      ],
      "source": [
        "# Train/fit the DL model using the training Reuters data\n",
        "log = reuters_model.fit(x_train, y_train, epochs=10, batch_size=128, callbacks=[cp])"
      ]
    },
    {
      "cell_type": "code",
      "execution_count": null,
      "metadata": {
        "colab": {
          "base_uri": "https://localhost:8080/"
        },
        "id": "gkKo129dPo42",
        "outputId": "c0ba744e-53f6-45d3-aa5d-a5b943429cb7"
      },
      "outputs": [
        {
          "name": "stdout",
          "output_type": "stream",
          "text": [
            "dict_keys(['loss', 'acc'])\n"
          ]
        },
        {
          "data": {
            "image/png": "[encoded data removed]",
            "text/plain": [
              "<Figure size 640x480 with 1 Axes>"
            ]
          },
          "metadata": {},
          "output_type": "display_data"
        },
        {
          "data": {
            "image/png": "[encoded data removed]",
            "text/plain": [
              "<Figure size 640x480 with 1 Axes>"
            ]
          },
          "metadata": {},
          "output_type": "display_data"
        }
      ],
      "source": [
        "# Plot the training/validation accuracy and lossprint\n",
        "print(log.history.keys())\n",
        "acc = log.history['acc']\n",
        "# val_acc = log.history['val_acc']\n",
        "loss = log.history['loss']\n",
        "\n",
        "epochs = range(len(acc))\n",
        "\n",
        "plt.plot(epochs, acc, 'bo', label='Training acc')\n",
        "# plt.plot(epochs, val_acc, 'b', label='Validation acc')\n",
        "plt.title('Training accuracy')\n",
        "plt.legend()\n",
        "\n",
        "plt.figure()\n",
        "\n",
        "plt.plot(epochs, loss, 'bo', label='Training loss')\n",
        "# plt.plot(epochs, val_loss, 'b', label='Validation loss')\n",
        "plt.title('Training loss')\n",
        "plt.legend()\n",
        "\n",
        "plt.show()"
      ]
    },
    {
      "cell_type": "markdown",
      "metadata": {
        "id": "7tGgGsiRPxBr"
      },
      "source": [
        "## Testing/Evaluation\n",
        "\n",
        "(15 points)\n",
        "\n",
        "In this section, you will write code for the following:\n",
        "\n",
        "*   Re-initialize the model\n",
        "*   Load the model weights that were saved at \"/content/drive/My Drive/Colab Notebooks/reuters/\" ([code reference](https://www.tensorflow.org/tutorials/keras/save_and_load))\n",
        "*   Evaluate the trained DL model on the Reuters test dataset. Accuracy value should be printed.\n",
        "\n",
        "This section of the code should be able to run independently from the **training** section, i.e., run this section directly after creating the model."
      ]
    },
    {
      "cell_type": "code",
      "execution_count": null,
      "metadata": {
        "id": "9sKv9TftPwX5"
      },
      "outputs": [],
      "source": [
        "# Re-initialize the model\n",
        "reuters_model = create_model()\n"
      ]
    },
    {
      "cell_type": "code",
      "execution_count": null,
      "metadata": {
        "colab": {
          "base_uri": "https://localhost:8080/"
        },
        "id": "qyLiMplSP5QA",
        "outputId": "d8b575c3-0dc3-4881-f4f4-888d43e36c84"
      },
      "outputs": [
        {
          "data": {
            "text/plain": [
              "<tensorflow.python.checkpoint.checkpoint.CheckpointLoadStatus at 0x2affa4ca0>"
            ]
          },
          "execution_count": 55,
          "metadata": {},
          "output_type": "execute_result"
        }
      ],
      "source": [
        "# Load the model weights that were saved at - \"/content/drive/My Drive/Colab Notebooks/reuters/\"\n",
        "reuters_model.load_weights('./reuters/')\n"
      ]
    },
    {
      "cell_type": "code",
      "execution_count": null,
      "metadata": {
        "colab": {
          "base_uri": "https://localhost:8080/"
        },
        "id": "PuKL-lX7P64y",
        "outputId": "c5c1de4d-7653-48e5-8597-7476f0e4e130"
      },
      "outputs": [
        {
          "name": "stdout",
          "output_type": "stream",
          "text": [
            "71/71 [==============================] - 0s 666us/step - loss: 1.1631 - acc: 0.7881\n"
          ]
        },
        {
          "data": {
            "text/plain": [
              "[1.1630679368972778, 0.7880676984786987]"
            ]
          },
          "execution_count": 56,
          "metadata": {},
          "output_type": "execute_result"
        }
      ],
      "source": [
        "# Evaluate the trained DL model on the Reuters test dataset\n",
        "reuters_model.evaluate(x_test, y_test)"
      ]
    },
    {
      "cell_type": "markdown",
      "metadata": {
        "id": "YJSFgNBQrhQU"
      },
      "source": [
        "# Submission Instructions\n",
        "\n",
        "1.   Complete all tasks above - **File MUST contain the output for ALL cells**\n",
        "2.   Export this notebook as .ipynb\n",
        "      (File > Download as ipynb)\n",
        "3.   Download and zip the folders \"/content/drive/My Drive/Colab Notebooks/cifar/\" (abc123_cifar_model.zip) and \"/content/drive/My Drive/Colab Notebooks/reuters/\" (abc123_reuters_model.zip)\n",
        "4.   Upload the .ipynb file and .zip on Blackboard\n",
        "\n"
      ]
    },
    {
      "cell_type": "markdown",
      "metadata": {
        "id": "0lGvLE9H6ptL"
      },
      "source": [
        "## Rubric\n",
        "\n",
        "*   Computer Vision - CNN\n",
        "    *   (20 points) Load/Prepare Data\n",
        "    *   (15 points) CNN Model Creation\n",
        "    *   (15 points) Training\n",
        "    *   (15 points) Testing/Evaluation\n",
        "*   Natural Language Processing - RNN\n",
        "    *   (15 points) Load/Prepare Data\n",
        "    *   (15 points) RNN Model Creation\n",
        "    *   (15 points) Training\n",
        "    *   (15 points) Testing/Evaluation\n",
        "\n"
      ]
    }
  ],
  "metadata": {
    "colab": {
      "provenance": []
    },
    "kernelspec": {
      "display_name": "Python 3 (ipykernel)",
      "language": "python",
      "name": "python3"
    },
    "language_info": {
      "codemirror_mode": {
        "name": "ipython",
        "version": 3
      },
      "file_extension": ".py",
      "mimetype": "text/x-python",
      "name": "python",
      "nbconvert_exporter": "python",
      "pygments_lexer": "ipython3",
      "version": "3.10.9"
    }
  },
  "nbformat": 4,
  "nbformat_minor": 0
}